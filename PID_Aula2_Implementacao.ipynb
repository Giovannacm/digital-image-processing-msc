{
  "nbformat": 4,
  "nbformat_minor": 0,
  "metadata": {
    "colab": {
      "name": "PID_Aula2_Implementacao.ipynb",
      "provenance": [],
      "collapsed_sections": [],
      "toc_visible": true,
      "authorship_tag": "ABX9TyNPwsZrPmkv5I803NF3j9bD",
      "include_colab_link": true
    },
    "kernelspec": {
      "name": "python3",
      "display_name": "Python 3"
    },
    "language_info": {
      "name": "python"
    }
  },
  "cells": [
    {
      "cell_type": "markdown",
      "metadata": {
        "id": "view-in-github",
        "colab_type": "text"
      },
      "source": [
        "<a href=\"https://colab.research.google.com/github/Giovannacm/digital-image-processing-msc/blob/main/PID_Aula2_Implementacao.ipynb\" target=\"_parent\"><img src=\"https://colab.research.google.com/assets/colab-badge.svg\" alt=\"Open In Colab\"/></a>"
      ]
    },
    {
      "cell_type": "markdown",
      "source": [
        "Escreva uma programa para reproduzir as imagens apresentadas no slide 41.\n",
        "Considere que as imagens têm dimensões: 256x256 com 256 níveis de\n",
        "profundidade. Em seguida, o programa deve ser capaz de apresentar a taxa de\n",
        "amostragem e a profundidade de cada imagem."
      ],
      "metadata": {
        "id": "067Vdwnio-eW"
      }
    },
    {
      "cell_type": "code",
      "source": [
        "import numpy as np\n",
        "import matplotlib.pyplot as plt"
      ],
      "metadata": {
        "id": "Yp4--42ToYkq"
      },
      "execution_count": null,
      "outputs": []
    },
    {
      "cell_type": "code",
      "source": [
        "image_height = 256\n",
        "image_width = 256\n",
        "depth_levels = 256 - 1"
      ],
      "metadata": {
        "id": "ylD3LYPupiNo"
      },
      "execution_count": null,
      "outputs": []
    },
    {
      "cell_type": "code",
      "execution_count": null,
      "metadata": {
        "colab": {
          "base_uri": "https://localhost:8080/",
          "height": 287
        },
        "id": "Im_CD2xemBzo",
        "outputId": "08acb950-a49f-4594-dc39-c5e617abf7cb"
      },
      "outputs": [
        {
          "output_type": "execute_result",
          "data": {
            "text/plain": [
              "<matplotlib.colorbar.Colorbar at 0x7f8c24dd4250>"
            ]
          },
          "metadata": {},
          "execution_count": 3
        },
        {
          "output_type": "display_data",
          "data": {
            "text/plain": [
              "<Figure size 432x288 with 2 Axes>"
            ],
            "image/png": "[encoded data removed]"
          },
          "metadata": {
            "needs_background": "light"
          }
        }
      ],
      "source": [
        "image_a = np.zeros((image_height, image_width), dtype=np.uint8)\n",
        "\n",
        "gray_shades = 2\n",
        "image_a[:, :] = int(depth_levels / gray_shades)\n",
        "\n",
        "plt.imshow(image_a, cmap='gray')\n",
        "plt.clim(0, depth_levels)\n",
        "plt.colorbar()\n",
        "#plt.imsave('/content/image_a.png', image_a, vmin=0, vmax=depth_levels, cmap='gray')"
      ]
    },
    {
      "cell_type": "code",
      "source": [
        "image_a"
      ],
      "metadata": {
        "colab": {
          "base_uri": "https://localhost:8080/"
        },
        "id": "SRE2oRM2orlT",
        "outputId": "330a3809-f427-4cd3-9268-9d826edd8e9a"
      },
      "execution_count": null,
      "outputs": [
        {
          "output_type": "execute_result",
          "data": {
            "text/plain": [
              "array([[127, 127, 127, ..., 127, 127, 127],\n",
              "       [127, 127, 127, ..., 127, 127, 127],\n",
              "       [127, 127, 127, ..., 127, 127, 127],\n",
              "       ...,\n",
              "       [127, 127, 127, ..., 127, 127, 127],\n",
              "       [127, 127, 127, ..., 127, 127, 127],\n",
              "       [127, 127, 127, ..., 127, 127, 127]], dtype=uint8)"
            ]
          },
          "metadata": {},
          "execution_count": 4
        }
      ]
    },
    {
      "cell_type": "code",
      "source": [
        "image_b = np.zeros((image_height, image_width), dtype=np.uint8)\n",
        "\n",
        "gray_shades = 3\n",
        "image_b[:int(image_height/2) , :] = int(depth_levels / gray_shades) * 2\n",
        "image_b[int(image_height/2):, :] = int(depth_levels / gray_shades) * 1\n",
        "\n",
        "plt.imshow(image_b, cmap='gray')\n",
        "plt.clim(0, depth_levels)\n",
        "plt.colorbar()\n",
        "#plt.imsave('/content/image_b.png', image_b, vmin=0, vmax=depth_levels, cmap='gray')"
      ],
      "metadata": {
        "colab": {
          "base_uri": "https://localhost:8080/",
          "height": 287
        },
        "id": "ONbIiKiotj-r",
        "outputId": "87c57acd-c643-4648-a869-1df63c4b1a3c"
      },
      "execution_count": null,
      "outputs": [
        {
          "output_type": "execute_result",
          "data": {
            "text/plain": [
              "<matplotlib.colorbar.Colorbar at 0x7f8c1eb26310>"
            ]
          },
          "metadata": {},
          "execution_count": 5
        },
        {
          "output_type": "display_data",
          "data": {
            "text/plain": [
              "<Figure size 432x288 with 2 Axes>"
            ],
            "image/png": "[encoded data removed]"
          },
          "metadata": {
            "needs_background": "light"
          }
        }
      ]
    },
    {
      "cell_type": "code",
      "source": [
        "image_b"
      ],
      "metadata": {
        "colab": {
          "base_uri": "https://localhost:8080/"
        },
        "id": "anErmWvQua6T",
        "outputId": "b3c35242-5107-4a7c-81a9-5407b85c914a"
      },
      "execution_count": null,
      "outputs": [
        {
          "output_type": "execute_result",
          "data": {
            "text/plain": [
              "array([[170, 170, 170, ..., 170, 170, 170],\n",
              "       [170, 170, 170, ..., 170, 170, 170],\n",
              "       [170, 170, 170, ..., 170, 170, 170],\n",
              "       ...,\n",
              "       [ 85,  85,  85, ...,  85,  85,  85],\n",
              "       [ 85,  85,  85, ...,  85,  85,  85],\n",
              "       [ 85,  85,  85, ...,  85,  85,  85]], dtype=uint8)"
            ]
          },
          "metadata": {},
          "execution_count": 6
        }
      ]
    },
    {
      "cell_type": "code",
      "source": [
        "image_c = np.zeros((image_height, image_width), dtype=np.uint8)\n",
        "\n",
        "gray_shades = 3\n",
        "image_c[:int(image_height/2) , :] = int(depth_levels / gray_shades) * 2\n",
        "image_c[int(image_height/2):, :] = int(depth_levels / gray_shades) * 1\n",
        "\n",
        "image_c[50:70, 50:100] = int(depth_levels / gray_shades) * 1\n",
        "image_c[50:70, image_width-100:image_width-50] = int(depth_levels / gray_shades) * 1\n",
        "\n",
        "image_c[image_height-70:image_height-50 , 50:100] = int(depth_levels / gray_shades) * 2\n",
        "image_c[image_height-70:image_height-50 , image_width-100:image_width-50] = int(depth_levels / gray_shades) * 2\n",
        "\n",
        "plt.imshow(image_c, cmap='gray')\n",
        "plt.clim(0, depth_levels)\n",
        "plt.colorbar()\n",
        "#plt.imsave('/content/image_c.png', image_c, vmin=0, vmax=depth_levels, cmap='gray')"
      ],
      "metadata": {
        "colab": {
          "base_uri": "https://localhost:8080/",
          "height": 287
        },
        "id": "IRcb276Fuo1L",
        "outputId": "ffbb3129-334d-491b-93a1-59e181d5cc96"
      },
      "execution_count": null,
      "outputs": [
        {
          "output_type": "execute_result",
          "data": {
            "text/plain": [
              "<matplotlib.colorbar.Colorbar at 0x7f8c1ea59b90>"
            ]
          },
          "metadata": {},
          "execution_count": 7
        },
        {
          "output_type": "display_data",
          "data": {
            "text/plain": [
              "<Figure size 432x288 with 2 Axes>"
            ],
            "image/png": "[encoded data removed]"
          },
          "metadata": {
            "needs_background": "light"
          }
        }
      ]
    },
    {
      "cell_type": "code",
      "source": [
        "image_c"
      ],
      "metadata": {
        "colab": {
          "base_uri": "https://localhost:8080/"
        },
        "id": "dV4kuZVMvOPD",
        "outputId": "60e262cd-adc9-45fa-e7f6-3da309913ddf"
      },
      "execution_count": null,
      "outputs": [
        {
          "output_type": "execute_result",
          "data": {
            "text/plain": [
              "array([[170, 170, 170, ..., 170, 170, 170],\n",
              "       [170, 170, 170, ..., 170, 170, 170],\n",
              "       [170, 170, 170, ..., 170, 170, 170],\n",
              "       ...,\n",
              "       [ 85,  85,  85, ...,  85,  85,  85],\n",
              "       [ 85,  85,  85, ...,  85,  85,  85],\n",
              "       [ 85,  85,  85, ...,  85,  85,  85]], dtype=uint8)"
            ]
          },
          "metadata": {},
          "execution_count": 8
        }
      ]
    },
    {
      "cell_type": "code",
      "source": [
        "image_d = np.zeros((image_height, image_width), dtype=np.uint8)\n",
        "\n",
        "gray_shades = 5\n",
        "image_d[:int(image_height/2) , :int(image_width/2)] = int(depth_levels / gray_shades) * 1\n",
        "image_d[:int(image_height/2), int(image_width/2):] = int(depth_levels / gray_shades) * 2\n",
        "image_d[int(image_height/2): , :int(image_width/2)] = int(depth_levels / gray_shades) * 3\n",
        "image_d[int(image_height/2):, int(image_width/2):] = int(depth_levels / gray_shades) * 4\n",
        "\n",
        "plt.imshow(image_d, cmap='gray')\n",
        "plt.clim(0, depth_levels)\n",
        "plt.colorbar()\n",
        "#plt.imsave('/content/image_d.png', image_d, vmin=0, vmax=depth_levels, cmap='gray')"
      ],
      "metadata": {
        "colab": {
          "base_uri": "https://localhost:8080/",
          "height": 287
        },
        "id": "SZ6R6NmivOj6",
        "outputId": "4bbabc61-ff8b-454a-cc84-3a578e869f6d"
      },
      "execution_count": null,
      "outputs": [
        {
          "output_type": "execute_result",
          "data": {
            "text/plain": [
              "<matplotlib.colorbar.Colorbar at 0x7f8c1f000b50>"
            ]
          },
          "metadata": {},
          "execution_count": 9
        },
        {
          "output_type": "display_data",
          "data": {
            "text/plain": [
              "<Figure size 432x288 with 2 Axes>"
            ],
            "image/png": "[encoded data removed]"
          },
          "metadata": {
            "needs_background": "light"
          }
        }
      ]
    },
    {
      "cell_type": "code",
      "source": [
        "image_d"
      ],
      "metadata": {
        "colab": {
          "base_uri": "https://localhost:8080/"
        },
        "id": "lmaZQjPiwTq1",
        "outputId": "5bf7956c-d424-4242-ed3e-c1c1ef02e483"
      },
      "execution_count": null,
      "outputs": [
        {
          "output_type": "execute_result",
          "data": {
            "text/plain": [
              "array([[ 51,  51,  51, ..., 102, 102, 102],\n",
              "       [ 51,  51,  51, ..., 102, 102, 102],\n",
              "       [ 51,  51,  51, ..., 102, 102, 102],\n",
              "       ...,\n",
              "       [153, 153, 153, ..., 204, 204, 204],\n",
              "       [153, 153, 153, ..., 204, 204, 204],\n",
              "       [153, 153, 153, ..., 204, 204, 204]], dtype=uint8)"
            ]
          },
          "metadata": {},
          "execution_count": 10
        }
      ]
    },
    {
      "cell_type": "code",
      "source": [
        "image_e = np.zeros((image_height, image_width), dtype=np.uint8)\n",
        "\n",
        "gray_shades = 17\n",
        "image_e[:int(image_height/4) , :int(image_width/4)] = int(depth_levels / gray_shades) * 1\n",
        "image_e[:int(image_height/4) , int(image_width/4):int(image_width/4)*2] = int(depth_levels / gray_shades) * 2\n",
        "image_e[:int(image_height/4) , int(image_width/4)*2:int(image_width/4)*3] = int(depth_levels / gray_shades) * 3\n",
        "image_e[:int(image_height/4) , int(image_width/4)*3:] = int(depth_levels / gray_shades) * 4\n",
        "\n",
        "image_e[int(image_height/4):int(image_height/4)*2 , :int(image_width/4)] = int(depth_levels / gray_shades) * 5\n",
        "image_e[int(image_height/4):int(image_height/4)*2 , int(image_width/4):int(image_width/4)*2] = int(depth_levels / gray_shades) * 6\n",
        "image_e[int(image_height/4):int(image_height/4)*2 , int(image_width/4)*2:int(image_width/4)*3] = int(depth_levels / gray_shades) * 7\n",
        "image_e[int(image_height/4):int(image_height/4)*2 , int(image_width/4)*3:] = int(depth_levels / gray_shades) * 8\n",
        "\n",
        "image_e[int(image_height/4)*2:int(image_height/4)*3 , :int(image_width/4)] = int(depth_levels / gray_shades) * 9\n",
        "image_e[int(image_height/4)*2:int(image_height/4)*3 , int(image_width/4):int(image_width/4)*2] = int(depth_levels / gray_shades) * 10\n",
        "image_e[int(image_height/4)*2:int(image_height/4)*3 , int(image_width/4)*2:int(image_width/4)*3] = int(depth_levels / gray_shades) * 11\n",
        "image_e[int(image_height/4)*2:int(image_height/4)*3 , int(image_width/4)*3:] = int(depth_levels / gray_shades) * 12\n",
        "\n",
        "image_e[int(image_height/4)*3: , :int(image_width/4)] = int(depth_levels / gray_shades) * 13\n",
        "image_e[int(image_height/4)*3: , int(image_width/4):int(image_width/4)*2] = int(depth_levels / gray_shades) * 14\n",
        "image_e[int(image_height/4)*3: , int(image_width/4)*2:int(image_width/4)*3] = int(depth_levels / gray_shades) * 15\n",
        "image_e[int(image_height/4)*3: , int(image_width/4)*3:] = int(depth_levels / gray_shades) * 16\n",
        "\n",
        "plt.imshow(image_e, cmap='gray')\n",
        "plt.clim(0, depth_levels)\n",
        "plt.colorbar()\n",
        "#plt.imsave('/content/image_e.png', image_e, vmin=0, vmax=depth_levels, cmap='gray')"
      ],
      "metadata": {
        "colab": {
          "base_uri": "https://localhost:8080/",
          "height": 287
        },
        "id": "PoY6MQ6hvOjT",
        "outputId": "45d9430f-814f-4667-ea42-005134468b98"
      },
      "execution_count": null,
      "outputs": [
        {
          "output_type": "execute_result",
          "data": {
            "text/plain": [
              "<matplotlib.colorbar.Colorbar at 0x7f8c1e8d7b90>"
            ]
          },
          "metadata": {},
          "execution_count": 11
        },
        {
          "output_type": "display_data",
          "data": {
            "text/plain": [
              "<Figure size 432x288 with 2 Axes>"
            ],
            "image/png": "[encoded data removed]"
          },
          "metadata": {
            "needs_background": "light"
          }
        }
      ]
    },
    {
      "cell_type": "code",
      "source": [
        "image_e"
      ],
      "metadata": {
        "colab": {
          "base_uri": "https://localhost:8080/"
        },
        "id": "fU2F0Qrtxm8T",
        "outputId": "29b30bad-456a-4ec5-8212-aab0ee8025cb"
      },
      "execution_count": null,
      "outputs": [
        {
          "output_type": "execute_result",
          "data": {
            "text/plain": [
              "array([[ 15,  15,  15, ...,  60,  60,  60],\n",
              "       [ 15,  15,  15, ...,  60,  60,  60],\n",
              "       [ 15,  15,  15, ...,  60,  60,  60],\n",
              "       ...,\n",
              "       [195, 195, 195, ..., 240, 240, 240],\n",
              "       [195, 195, 195, ..., 240, 240, 240],\n",
              "       [195, 195, 195, ..., 240, 240, 240]], dtype=uint8)"
            ]
          },
          "metadata": {},
          "execution_count": 12
        }
      ]
    },
    {
      "cell_type": "code",
      "source": [
        "def get_sampling_rate(img, source_shape):\n",
        "  return (source_shape[0]/img.shape[0], source_shape[1]/img.shape[1])"
      ],
      "metadata": {
        "id": "3tPUENV-1ML-"
      },
      "execution_count": null,
      "outputs": []
    },
    {
      "cell_type": "code",
      "source": [
        "def get_bit_depth(img): #número de bits necessários para armazenar a imagem\n",
        "  values_gray = np.unique(img) #verifica quais níveis de cinza estão sendo respesentados na imagem\n",
        "  n_gray = len(values_gray) #quantos níveis de cinza estão na imagem (L)\n",
        "  return int(np.log2(n_gray)) #retornando b (L = 2^b)"
      ],
      "metadata": {
        "id": "DWXopc0D1AP5"
      },
      "execution_count": null,
      "outputs": []
    },
    {
      "cell_type": "code",
      "source": [
        "print('Taxa de amostragem: ' + str(get_sampling_rate(image_a, (image_height, image_width))))\n",
        "print('Profundidade de bits: ' + str(get_bit_depth(image_a)))"
      ],
      "metadata": {
        "colab": {
          "base_uri": "https://localhost:8080/"
        },
        "id": "sAiBSfkDvOQA",
        "outputId": "1c738552-7a36-446b-ad5d-e8c4ed3ef6fa"
      },
      "execution_count": null,
      "outputs": [
        {
          "output_type": "stream",
          "name": "stdout",
          "text": [
            "Taxa de amostragem: (1.0, 1.0)\n",
            "Profundidade de bits: 0\n"
          ]
        }
      ]
    },
    {
      "cell_type": "code",
      "source": [
        "print('Taxa de amostragem: ' + str(get_sampling_rate(image_b, (image_height, image_width))))\n",
        "print('Profundidade de bits: ' + str(get_bit_depth(image_b)))"
      ],
      "metadata": {
        "colab": {
          "base_uri": "https://localhost:8080/"
        },
        "id": "wpUFf2E8uRzC",
        "outputId": "c09276b5-d28c-4bc0-a5fd-0e194452009c"
      },
      "execution_count": null,
      "outputs": [
        {
          "output_type": "stream",
          "name": "stdout",
          "text": [
            "Taxa de amostragem: (1.0, 1.0)\n",
            "Profundidade de bits: 1\n"
          ]
        }
      ]
    },
    {
      "cell_type": "code",
      "source": [
        "print('Taxa de amostragem: ' + str(get_sampling_rate(image_c, (image_height, image_width))))\n",
        "print('Profundidade de bits: ' + str(get_bit_depth(image_c)))"
      ],
      "metadata": {
        "colab": {
          "base_uri": "https://localhost:8080/"
        },
        "id": "z1DihQE9vokM",
        "outputId": "c8bc0132-7889-4b14-c064-909a74de8bba"
      },
      "execution_count": null,
      "outputs": [
        {
          "output_type": "stream",
          "name": "stdout",
          "text": [
            "Taxa de amostragem: (1.0, 1.0)\n",
            "Profundidade de bits: 1\n"
          ]
        }
      ]
    },
    {
      "cell_type": "code",
      "source": [
        "print('Taxa de amostragem: ' + str(get_sampling_rate(image_d, (image_height, image_width))))\n",
        "print('Profundidade de bits: ' + str(get_bit_depth(image_d)))"
      ],
      "metadata": {
        "colab": {
          "base_uri": "https://localhost:8080/"
        },
        "id": "F_rFW2o-vp-P",
        "outputId": "9cae767d-02f9-45b3-d8af-9e2f1eac5ffc"
      },
      "execution_count": null,
      "outputs": [
        {
          "output_type": "stream",
          "name": "stdout",
          "text": [
            "Taxa de amostragem: (1.0, 1.0)\n",
            "Profundidade de bits: 2\n"
          ]
        }
      ]
    },
    {
      "cell_type": "code",
      "source": [
        "print('Taxa de amostragem: ' + str(get_sampling_rate(image_e, (image_height, image_width))))\n",
        "print('Profundidade de bits: ' + str(get_bit_depth(image_e)))"
      ],
      "metadata": {
        "colab": {
          "base_uri": "https://localhost:8080/"
        },
        "id": "U7_dwAqYvtq_",
        "outputId": "e377614a-b0b5-459e-e040-a94361a6bbb0"
      },
      "execution_count": null,
      "outputs": [
        {
          "output_type": "stream",
          "name": "stdout",
          "text": [
            "Taxa de amostragem: (1.0, 1.0)\n",
            "Profundidade de bits: 4\n"
          ]
        }
      ]
    },
    {
      "cell_type": "markdown",
      "source": [
        "Nos exemplos acima, foi definido para criar imagens com 256x256 pixels de resolução espacial e 256 níveis de cinza. Entretanto, é possível alterar esses valores para ver a diferença na taxa de amostragem e utilizar a profundidade no mapeamento dos pixels, por exemplo."
      ],
      "metadata": {
        "id": "B9ZHzN__zodz"
      }
    },
    {
      "cell_type": "code",
      "source": [
        "image_a_2 = np.zeros((1, 1), dtype=np.uint8)\n",
        "\n",
        "image_a_2[:, :] = 1\n",
        "\n",
        "plt.imshow(image_a_2, cmap='gray')\n",
        "plt.clim(0, int(np.exp2(get_bit_depth(image_a_2))) + 1)\n",
        "plt.colorbar()"
      ],
      "metadata": {
        "colab": {
          "base_uri": "https://localhost:8080/",
          "height": 287
        },
        "id": "KIbQcQB1zd3W",
        "outputId": "8f8242bd-35d2-4593-d402-3e8840cd6a12"
      },
      "execution_count": null,
      "outputs": [
        {
          "output_type": "execute_result",
          "data": {
            "text/plain": [
              "<matplotlib.colorbar.Colorbar at 0x7f8c1e83c8d0>"
            ]
          },
          "metadata": {},
          "execution_count": 20
        },
        {
          "output_type": "display_data",
          "data": {
            "text/plain": [
              "<Figure size 432x288 with 2 Axes>"
            ],
            "image/png": "[encoded data removed]"
          },
          "metadata": {
            "needs_background": "light"
          }
        }
      ]
    },
    {
      "cell_type": "code",
      "source": [
        "image_a_2"
      ],
      "metadata": {
        "colab": {
          "base_uri": "https://localhost:8080/"
        },
        "id": "wO-6SeGV5CZ9",
        "outputId": "65f5e775-f4be-425c-c60a-b9eceda4a67e"
      },
      "execution_count": null,
      "outputs": [
        {
          "output_type": "execute_result",
          "data": {
            "text/plain": [
              "array([[1]], dtype=uint8)"
            ]
          },
          "metadata": {},
          "execution_count": 21
        }
      ]
    },
    {
      "cell_type": "code",
      "source": [
        "print('Taxa de amostragem: ' + str(get_sampling_rate(image_a_2, (image_height, image_width))))\n",
        "print('Profundidade de bits: ' + str(get_bit_depth(image_a_2)))"
      ],
      "metadata": {
        "colab": {
          "base_uri": "https://localhost:8080/"
        },
        "id": "1b2GktB40ltw",
        "outputId": "43c75a97-2163-45f3-f627-4761cf12751b"
      },
      "execution_count": null,
      "outputs": [
        {
          "output_type": "stream",
          "name": "stdout",
          "text": [
            "Taxa de amostragem: (256.0, 256.0)\n",
            "Profundidade de bits: 0\n"
          ]
        }
      ]
    },
    {
      "cell_type": "code",
      "source": [
        "image_e_2 = np.zeros((4, 4), dtype=np.uint8)\n",
        "\n",
        "image_e_2[:1 , :1] = 1\n",
        "image_e_2[:1 , 1:2] = 2\n",
        "image_e_2[:1 , 2:3] = 3\n",
        "image_e_2[:1 , 3:] = 4\n",
        "\n",
        "image_e_2[1:2 , :1] = 5\n",
        "image_e_2[1:2 , 1:2] = 6\n",
        "image_e_2[1:2 , 2:3] = 7\n",
        "image_e_2[1:2 , 3:] = 8\n",
        "\n",
        "image_e_2[2:3 , :1] = 9\n",
        "image_e_2[2:3 , 1:2] = 10\n",
        "image_e_2[2:3 , 2:3] = 11\n",
        "image_e_2[2:3 , 3:] = 12\n",
        "\n",
        "image_e_2[3: , :1] = 13\n",
        "image_e_2[3: , 1:2] = 14\n",
        "image_e_2[3: , 2:3] = 15\n",
        "image_e_2[3: , 3:] = 16\n",
        "\n",
        "plt.imshow(image_e_2, cmap='gray')\n",
        "plt.clim(0, int(np.exp2(get_bit_depth(image_e_2))) + 1)\n",
        "plt.colorbar()"
      ],
      "metadata": {
        "colab": {
          "base_uri": "https://localhost:8080/",
          "height": 287
        },
        "id": "ZZSnDWzT1U-b",
        "outputId": "13015227-7e61-4a29-efee-7ed57b351c9f"
      },
      "execution_count": null,
      "outputs": [
        {
          "output_type": "execute_result",
          "data": {
            "text/plain": [
              "<matplotlib.colorbar.Colorbar at 0x7f8c1e777ad0>"
            ]
          },
          "metadata": {},
          "execution_count": 23
        },
        {
          "output_type": "display_data",
          "data": {
            "text/plain": [
              "<Figure size 432x288 with 2 Axes>"
            ],
            "image/png": "[encoded data removed]"
          },
          "metadata": {
            "needs_background": "light"
          }
        }
      ]
    },
    {
      "cell_type": "code",
      "source": [
        "image_e_2"
      ],
      "metadata": {
        "colab": {
          "base_uri": "https://localhost:8080/"
        },
        "id": "6Dkt6EnF3kKS",
        "outputId": "34110d5d-c7f6-473f-d2b8-f65287e53499"
      },
      "execution_count": null,
      "outputs": [
        {
          "output_type": "execute_result",
          "data": {
            "text/plain": [
              "array([[ 1,  2,  3,  4],\n",
              "       [ 5,  6,  7,  8],\n",
              "       [ 9, 10, 11, 12],\n",
              "       [13, 14, 15, 16]], dtype=uint8)"
            ]
          },
          "metadata": {},
          "execution_count": 24
        }
      ]
    },
    {
      "cell_type": "code",
      "source": [
        "print('Taxa de amostragem: ' + str(get_sampling_rate(image_e_2, (image_height, image_width))))\n",
        "print('Profundidade de bits: ' + str(get_bit_depth(image_e_2)))"
      ],
      "metadata": {
        "colab": {
          "base_uri": "https://localhost:8080/"
        },
        "id": "ol13eSOa11Jm",
        "outputId": "2638f89b-fccc-43e2-878d-54b7cbaa3609"
      },
      "execution_count": null,
      "outputs": [
        {
          "output_type": "stream",
          "name": "stdout",
          "text": [
            "Taxa de amostragem: (64.0, 64.0)\n",
            "Profundidade de bits: 4\n"
          ]
        }
      ]
    },
    {
      "cell_type": "markdown",
      "source": [
        "Desenvolvido por: Giovanna Carreira Marinho"
      ],
      "metadata": {
        "id": "OR7YIe0t5aMC"
      }
    }
  ]
}